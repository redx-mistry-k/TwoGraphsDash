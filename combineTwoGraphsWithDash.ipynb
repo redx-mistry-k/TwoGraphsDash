{
 "cells": [
  {
   "cell_type": "code",
   "execution_count": 1,
   "id": "f20ce323",
   "metadata": {},
   "outputs": [],
   "source": [
    "import pandas as pd\n",
    "import numpy as np\n",
    "import plotly.express as px"
   ]
  },
  {
   "cell_type": "code",
   "execution_count": 26,
   "id": "25aaa443",
   "metadata": {},
   "outputs": [],
   "source": [
    "import dash\n",
    "import dash_core_components as dcc\n",
    "import dash_html_components as html\n",
    "from dash.dependencies import Input, Output"
   ]
  },
  {
   "cell_type": "code",
   "execution_count": 31,
   "id": "c872e7e4",
   "metadata": {},
   "outputs": [
    {
     "name": "stdout",
     "output_type": "stream",
     "text": [
      "     State  ANSI Affected by  Year state_code  Pct of Colonies Impacted\n",
      "0  Alabama     1     Disease  2015         AL                      0.05\n",
      "1  Alabama     1     Disease  2016         AL                      1.20\n",
      "2  Alabama     1     Disease  2017         AL                      2.25\n",
      "3  Alabama     1     Disease  2018         AL                      1.30\n",
      "4  Alabama     1     Disease  2019         AL                      1.80\n"
     ]
    },
    {
     "data": {
      "text/html": [
       "\n",
       "        <iframe\n",
       "            width=\"100%\"\n",
       "            height=\"650\"\n",
       "            src=\"http://127.0.0.1:8050/\"\n",
       "            frameborder=\"0\"\n",
       "            allowfullscreen\n",
       "            \n",
       "        ></iframe>\n",
       "        "
      ],
      "text/plain": [
       "<IPython.lib.display.IFrame at 0x1ba59bb00d0>"
      ]
     },
     "metadata": {},
     "output_type": "display_data"
    }
   ],
   "source": [
    "app = dash.Dash(__name__)\n",
    "\n",
    "# ------------------------------------------------------------------------------\n",
    "# Import and clean data (importing csv into pandas)\n",
    "df = pd.read_csv(\"intro_bees.csv\")\n",
    "\n",
    "df = df.groupby(['State', 'ANSI', 'Affected by', 'Year', 'state_code'])[['Pct of Colonies Impacted']].mean()\n",
    "df.reset_index(inplace=True)\n",
    "print(df[:5])\n",
    "\n",
    "bee_killers = [\"Disease\", \"Other\", \"Pesticides\", \"Pests_excl_Varroa\", \"Unknown\", \"Varroa_mites\"]\n",
    "\n",
    "\n",
    "\n",
    "app.layout = html.Div([\n",
    "    html.H1(\"Web Application Dashboards with Dash\", style={'text-align': 'center'}),\n",
    "    \n",
    "    html.Div([\n",
    "        dcc.Dropdown(id=\"slct_impact\",\n",
    "                     options=[{\"label\": x, \"value\":x} for x in bee_killers],\n",
    "                     value=\"Pesticides\",\n",
    "                     multi=False,\n",
    "                     style={'width': \"50%\"}\n",
    "                     ),\n",
    "        dcc.Graph(id='my_line_graph', figure={})\n",
    "    ], style={'display': 'inline-block', 'width': '49%'}),\n",
    "    \n",
    "    html.Div([\n",
    "        dcc.Dropdown(id=\"slct_year\",\n",
    "                     options=[\n",
    "                         {\"label\": \"2015\", \"value\": 2015},\n",
    "                         {\"label\": \"2016\", \"value\": 2016},\n",
    "                         {\"label\": \"2017\", \"value\": 2017},\n",
    "                         {\"label\": \"2018\", \"value\": 2018}],\n",
    "                     multi=False,\n",
    "                     value=2015,\n",
    "                     style={'width': \"45%\"}\n",
    "                     ),\n",
    "        dcc.Graph(id='my_bar_graph', figure={})\n",
    "    ], style={'display': 'inline-block', 'width': '49%'}),\n",
    "    \n",
    "    html.Div([\n",
    "        html.Button(\"Download HTML\", id=\"btn-download\"),\n",
    "        dcc.Download(id=\"download\")\n",
    "    ])\n",
    "])\n",
    "\n",
    "@app.callback(\n",
    "    [Output(component_id='my_line_graph', component_property='figure'),\n",
    "     Output(component_id='my_bar_graph', component_property='figure')],\n",
    "    [Input(component_id='slct_impact', component_property='value'),\n",
    "     Input(component_id='slct_year', component_property='value')]\n",
    ")\n",
    "def update_graph(option_slctd1, option_slctd2):\n",
    "    dff1 = df.copy()\n",
    "    dff1 = dff1[dff1[\"Affected by\"] == option_slctd1]\n",
    "    dff1 = dff1[(dff1[\"State\"] == \"Idaho\") | (dff1[\"State\"] == \"New York\") | (dff1[\"State\"] == \"New Mexico\")]\n",
    "    \n",
    "    fig1 = px.line(\n",
    "        data_frame=dff1,\n",
    "        x='Year',\n",
    "        y='Pct of Colonies Impacted',\n",
    "        color='State',\n",
    "        template='plotly_dark'\n",
    "    )\n",
    "    \n",
    "    dff2 = df.copy()\n",
    "    dff2 = dff2[dff2[\"Year\"] == option_slctd2]\n",
    "    dff2 = dff2[dff2[\"Affected by\"] == \"Varroa_mites\"]\n",
    "    \n",
    "    fig2 = px.bar(\n",
    "        data_frame=dff2,\n",
    "        x='State',\n",
    "        y='Pct of Colonies Impacted',\n",
    "        hover_data=['State', 'Pct of Colonies Impacted'],\n",
    "        labels={'Pct of Colonies Impacted': '% of Bee Colonies'},\n",
    "        template='plotly_dark'\n",
    "    )\n",
    "    \n",
    "    return fig1, fig2\n",
    "\n",
    "@app.callback(\n",
    "    Output(\"download\", \"data\"),\n",
    "    [Input(\"btn-download\", \"n_clicks\")],\n",
    "    prevent_initial_call=True\n",
    ")\n",
    "def download_dashboard(n_clicks):\n",
    "    html_string = app.to_html()\n",
    "    return dict(content=html_string, filename=\"dashboard.html\")\n",
    "if __name__ == '__main__':\n",
    "    app.run_server(debug=True)"
   ]
  }
 ],
 "metadata": {
  "kernelspec": {
   "display_name": "Python 3 (ipykernel)",
   "language": "python",
   "name": "python3"
  },
  "language_info": {
   "codemirror_mode": {
    "name": "ipython",
    "version": 3
   },
   "file_extension": ".py",
   "mimetype": "text/x-python",
   "name": "python",
   "nbconvert_exporter": "python",
   "pygments_lexer": "ipython3",
   "version": "3.10.9"
  }
 },
 "nbformat": 4,
 "nbformat_minor": 5
}
